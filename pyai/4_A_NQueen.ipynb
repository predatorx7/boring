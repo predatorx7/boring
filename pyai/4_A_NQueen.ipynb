{
  "nbformat": 4,
  "nbformat_minor": 0,
  "metadata": {
    "colab": {
      "name": "4.A-NQueen.ipynb",
      "provenance": [],
      "collapsed_sections": [],
      "authorship_tag": "ABX9TyO90CI/kgUyEuv0Qo47Buf1",
      "include_colab_link": true
    },
    "kernelspec": {
      "name": "python3",
      "display_name": "Python 3"
    }
  },
  "cells": [
    {
      "cell_type": "markdown",
      "metadata": {
        "id": "view-in-github",
        "colab_type": "text"
      },
      "source": [
        "<a href=\"https://colab.research.google.com/github/predatorx7/boring/blob/master/pyai/4_A_NQueen.ipynb\" target=\"_parent\"><img src=\"https://colab.research.google.com/assets/colab-badge.svg\" alt=\"Open In Colab\"/></a>"
      ]
    },
    {
      "cell_type": "markdown",
      "metadata": {
        "id": "LrZlrPRHS6Y6"
      },
      "source": [
        "## Solving the n queen problem in which n queens are to be placed on an nxn chess board in a way that none of the n queens is in check by any other queen\n",
        "\n",
        "### Produces distinct solutions"
      ]
    },
    {
      "cell_type": "code",
      "metadata": {
        "id": "T4RLh6fHl5g4"
      },
      "source": [
        "def print_board(board):\n",
        "  print(\"= \" * 8, end='\\n\\n')\n",
        "  N = len(board)\n",
        "  for row in board:\n",
        "    for cell in range(N):\n",
        "      queenNumber = int(row)\n",
        "      isQueenInCell = queenNumber == cell\n",
        "      if isQueenInCell:\n",
        "        print(f\" {row}\", end=' ')\n",
        "      else:\n",
        "        print(f\" _\", end=' ')\n",
        "    print()\n",
        "  print('\\n')\n",
        "\n",
        "def nqueens(n):\n",
        "    seen = set()\n",
        "    for c in range(n):\n",
        "        Q = [None] * n\n",
        "        attempt = dfs(0, c, Q)\n",
        "        if attempt:\n",
        "            res = ''\n",
        "            for val in Q:\n",
        "                res += str(val)\n",
        "            seen.add(res)\n",
        "    for board in seen:\n",
        "      print_board(board)\n",
        "    print(f'Number of distinct solutions = {len(seen)}')\n",
        "    return len(seen)"
      ],
      "execution_count": 91,
      "outputs": []
    },
    {
      "cell_type": "code",
      "metadata": {
        "id": "1Wkj9Jmbm7Ci"
      },
      "source": [
        "def dfs(r, c, Q):\n",
        "    opts = [x for x in range(len(Q)) if x != c]\n",
        "    opts.append(c)\n",
        "    while opts:\n",
        "        c = opts.pop()\n",
        "        if is_soln(r, c, Q):\n",
        "            return True\n",
        "        elif is_valid(r, c, Q):\n",
        "            emplaceQ(r, c, Q)\n",
        "            dive = dfs(r + 1, c, Q)\n",
        "            if dive:\n",
        "                return True\n",
        "            else:\n",
        "                removeQ(r, c, Q)\n",
        "    return False"
      ],
      "execution_count": 92,
      "outputs": []
    },
    {
      "cell_type": "code",
      "metadata": {
        "id": "WkY_WSQ5nAKH"
      },
      "source": [
        "\n",
        "def emplaceQ(r, c, Q):\n",
        "    Q[r] = c\n",
        "\n",
        "\n",
        "def removeQ(r, c, Q):\n",
        "    Q[r] = None\n",
        "\n",
        "\n",
        "def is_valid(r, c, Q):\n",
        "    row, col = r, c\n",
        "    for i in range(row):\n",
        "        if col == Q[i] or (row - col) == (i - Q[i]) or\\\n",
        "           (row + col) == (i + Q[i]):\n",
        "                return False\n",
        "    return True\n",
        "\n",
        "\n",
        "def is_soln(r, c, Q):\n",
        "    row, n = r, len(Q)\n",
        "    if (row == n - 1) and is_valid(r, c, Q):\n",
        "        emplaceQ(r, c, Q)\n",
        "        return True\n",
        "    return False"
      ],
      "execution_count": 93,
      "outputs": []
    },
    {
      "cell_type": "markdown",
      "metadata": {
        "id": "XB2tiyKmnELj"
      },
      "source": [
        "### Main is the application which sets up the program for running. It takes an integer input, board_size (N), from the parameter representing the size of the chessboard and passes as input, 0, board_size (N) representing the chess board size and a solution list to hold solutions as they are created. \n",
        "\n",
        "#### It outputs the number of ways N queens can be placed on a board of size NxN."
      ]
    },
    {
      "cell_type": "code",
      "metadata": {
        "id": "xECWqcuTPnDp",
        "outputId": "761e5a8b-644a-4e68-fe00-87c3e6bb901c",
        "colab": {
          "base_uri": "https://localhost:8080/",
          "height": 1000
        }
      },
      "source": [
        "if __name__ == '__main__':\n",
        "    start_time = time.time()\n",
        "    board_size = 8\n",
        "    nqueens(board_size)\n",
        "    end_time = time.time()\n",
        "    time_taken = end_time - start_time\n",
        "    print(f\"Time taken to solve: {time_taken} ms\")"
      ],
      "execution_count": 94,
      "outputs": [
        {
          "output_type": "stream",
          "text": [
            "= = = = = = = = \n",
            "\n",
            " _  _  _  3  _  _  _  _ \n",
            " _  _  _  _  _  _  _  7 \n",
            " _  _  _  _  4  _  _  _ \n",
            " _  _  2  _  _  _  _  _ \n",
            " 0  _  _  _  _  _  _  _ \n",
            " _  _  _  _  _  _  6  _ \n",
            " _  1  _  _  _  _  _  _ \n",
            " _  _  _  _  _  5  _  _ \n",
            "\n",
            "\n",
            "= = = = = = = = \n",
            "\n",
            " 0  _  _  _  _  _  _  _ \n",
            " _  _  _  _  _  _  6  _ \n",
            " _  _  _  _  4  _  _  _ \n",
            " _  _  _  _  _  _  _  7 \n",
            " _  1  _  _  _  _  _  _ \n",
            " _  _  _  3  _  _  _  _ \n",
            " _  _  _  _  _  5  _  _ \n",
            " _  _  2  _  _  _  _  _ \n",
            "\n",
            "\n",
            "= = = = = = = = \n",
            "\n",
            " _  _  _  _  4  _  _  _ \n",
            " _  _  _  _  _  _  _  7 \n",
            " _  _  _  3  _  _  _  _ \n",
            " 0  _  _  _  _  _  _  _ \n",
            " _  _  _  _  _  _  6  _ \n",
            " _  1  _  _  _  _  _  _ \n",
            " _  _  _  _  _  5  _  _ \n",
            " _  _  2  _  _  _  _  _ \n",
            "\n",
            "\n",
            "= = = = = = = = \n",
            "\n",
            " _  _  _  _  _  _  6  _ \n",
            " _  _  _  _  4  _  _  _ \n",
            " _  _  2  _  _  _  _  _ \n",
            " 0  _  _  _  _  _  _  _ \n",
            " _  _  _  _  _  5  _  _ \n",
            " _  _  _  _  _  _  _  7 \n",
            " _  1  _  _  _  _  _  _ \n",
            " _  _  _  3  _  _  _  _ \n",
            "\n",
            "\n",
            "= = = = = = = = \n",
            "\n",
            " _  _  _  _  _  5  _  _ \n",
            " _  _  _  _  _  _  _  7 \n",
            " _  1  _  _  _  _  _  _ \n",
            " _  _  _  3  _  _  _  _ \n",
            " 0  _  _  _  _  _  _  _ \n",
            " _  _  _  _  _  _  6  _ \n",
            " _  _  _  _  4  _  _  _ \n",
            " _  _  2  _  _  _  _  _ \n",
            "\n",
            "\n",
            "= = = = = = = = \n",
            "\n",
            " _  1  _  _  _  _  _  _ \n",
            " _  _  _  _  _  _  _  7 \n",
            " _  _  _  _  _  5  _  _ \n",
            " 0  _  _  _  _  _  _  _ \n",
            " _  _  2  _  _  _  _  _ \n",
            " _  _  _  _  4  _  _  _ \n",
            " _  _  _  _  _  _  6  _ \n",
            " _  _  _  3  _  _  _  _ \n",
            "\n",
            "\n",
            "= = = = = = = = \n",
            "\n",
            " _  _  2  _  _  _  _  _ \n",
            " _  _  _  _  _  _  _  7 \n",
            " _  _  _  3  _  _  _  _ \n",
            " _  _  _  _  _  _  6  _ \n",
            " 0  _  _  _  _  _  _  _ \n",
            " _  _  _  _  _  5  _  _ \n",
            " _  1  _  _  _  _  _  _ \n",
            " _  _  _  _  4  _  _  _ \n",
            "\n",
            "\n",
            "= = = = = = = = \n",
            "\n",
            " _  _  _  _  _  _  _  7 \n",
            " _  _  _  3  _  _  _  _ \n",
            " 0  _  _  _  _  _  _  _ \n",
            " _  _  2  _  _  _  _  _ \n",
            " _  _  _  _  _  5  _  _ \n",
            " _  1  _  _  _  _  _  _ \n",
            " _  _  _  _  _  _  6  _ \n",
            " _  _  _  _  4  _  _  _ \n",
            "\n",
            "\n",
            "Number of distinct solutions = 8\n",
            "Time taken to solve: 0.02577495574951172 ms\n"
          ],
          "name": "stdout"
        }
      ]
    }
  ]
}