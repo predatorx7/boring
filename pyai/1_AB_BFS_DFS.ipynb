{
  "nbformat": 4,
  "nbformat_minor": 0,
  "metadata": {
    "colab": {
      "name": "1.AB-BFS_DFS.ipynb",
      "provenance": [],
      "collapsed_sections": [],
      "authorship_tag": "ABX9TyNLqyDy1IdrBMvN0itDv5cj",
      "include_colab_link": true
    },
    "kernelspec": {
      "name": "python3",
      "display_name": "Python 3"
    }
  },
  "cells": [
    {
      "cell_type": "markdown",
      "metadata": {
        "id": "view-in-github",
        "colab_type": "text"
      },
      "source": [
        "<a href=\"https://colab.research.google.com/github/predatorx7/boring/blob/master/pyai/1_AB_BFS_DFS.ipynb\" target=\"_parent\"><img src=\"https://colab.research.google.com/assets/colab-badge.svg\" alt=\"Open In Colab\"/></a>"
      ]
    },
    {
      "cell_type": "code",
      "metadata": {
        "id": "XeWDrdBttZpN",
        "colab_type": "code",
        "colab": {}
      },
      "source": [
        "# graph of alphabet character\n",
        "graphAlpha = {\n",
        "  'A' : ['B','C'],\n",
        "  'B' : ['D', 'E'],\n",
        "  'C' : ['F'],\n",
        "  'D' : [],\n",
        "  'E' : ['F'],\n",
        "  'F' : []\n",
        "}"
      ],
      "execution_count": null,
      "outputs": []
    },
    {
      "cell_type": "code",
      "metadata": {
        "id": "QXbWFlh8y73u",
        "colab_type": "code",
        "colab": {}
      },
      "source": [
        "# graph of numbers\n",
        "graphNum = {\n",
        "    1 : [2, 3],\n",
        "    2 : [4, 5],\n",
        "    3 : [6],\n",
        "    4 : [],\n",
        "    5 : [6],\n",
        "    6 : []\n",
        "}"
      ],
      "execution_count": null,
      "outputs": []
    },
    {
      "cell_type": "code",
      "metadata": {
        "id": "uW_YQ5TTwXWW",
        "colab_type": "code",
        "colab": {}
      },
      "source": [
        "# This will store visited nodes and queues of graph with alphabetical charactwers\n",
        "\n",
        "# bfs\n",
        "visitedAlpha = []\n",
        "queueAlpha = []\n",
        "\n",
        "# dfs\n",
        "visitedAlphaDFS = set()"
      ],
      "execution_count": null,
      "outputs": []
    },
    {
      "cell_type": "code",
      "metadata": {
        "id": "SGev-wHvweoU",
        "colab_type": "code",
        "colab": {}
      },
      "source": [
        "# This will store visited nodes and queues of graph with numerical charactwers\n",
        "\n",
        "# bfs\n",
        "visitedNum = []\n",
        "queueNum = []\n",
        "\n",
        "# dfs\n",
        "visitedNumDFS = set()"
      ],
      "execution_count": null,
      "outputs": []
    },
    {
      "cell_type": "code",
      "metadata": {
        "id": "N083zvN4tdPk",
        "colab_type": "code",
        "colab": {}
      },
      "source": [
        "def bfs(visited, graph, node, queue):\n",
        "  visited.append(node)\n",
        "  queue.append(node)\n",
        "\n",
        "  while queue:\n",
        "    s = queue.pop(0) \n",
        "    print (s, end = \" \") \n",
        "\n",
        "    for neighbour in graph[s]:\n",
        "      if neighbour not in visited:\n",
        "        visited.append(neighbour)\n",
        "        queue.append(neighbour)"
      ],
      "execution_count": null,
      "outputs": []
    },
    {
      "cell_type": "code",
      "metadata": {
        "id": "piCFwfopvT1s",
        "colab_type": "code",
        "colab": {}
      },
      "source": [
        "def dfs(visited, graph, node):\n",
        "    if node not in visited:\n",
        "        print(node)\n",
        "        visited.add(node)\n",
        "        for child in graph[node]:\n",
        "            dfs(visited, graph, child)"
      ],
      "execution_count": null,
      "outputs": []
    },
    {
      "cell_type": "code",
      "metadata": {
        "id": "ZzBdYpOJtgqb",
        "colab_type": "code",
        "colab": {
          "base_uri": "https://localhost:8080/",
          "height": 119
        },
        "outputId": "8dffd36f-19c7-4a3f-fd27-463dc8bd25b7"
      },
      "source": [
        "print(\"BFS for graph with alphabetical characters: \\n\")\n",
        "bfs(visitedAlpha, graphAlpha, 'A', queueAlpha)\n",
        "print(\"\\nBFS for graph with numerical characters: \\n\")\n",
        "bfs(visitedNum, graphNum, 1, queueNum)"
      ],
      "execution_count": null,
      "outputs": [
        {
          "output_type": "stream",
          "text": [
            "BFS for graph with alphabetical characters: \n",
            "\n",
            "A B C D E F \n",
            "BFS for graph with numerical characters: \n",
            "\n",
            "1 2 3 4 5 6 "
          ],
          "name": "stdout"
        }
      ]
    },
    {
      "cell_type": "code",
      "metadata": {
        "id": "NZuRU3Hny93Q",
        "colab_type": "code",
        "colab": {
          "base_uri": "https://localhost:8080/"
        },
        "outputId": "0728519d-cbc6-4985-b70e-44a6ca364f08"
      },
      "source": [
        "print(\"DFS for graph with alphabetical characters: \\n\")\n",
        "dfs(visitedAlphaDFS, graphAlpha, 'A')\n",
        "print(\"\\nDFS for graph with numerical characters: \\n\")\n",
        "dfs(visitedNumDFS, graphNum, 1)"
      ],
      "execution_count": null,
      "outputs": [
        {
          "output_type": "stream",
          "text": [
            "DFS for graph with alphabetical characters: \n",
            "\n",
            "A\n",
            "B\n",
            "D\n",
            "E\n",
            "F\n",
            "C\n",
            "\n",
            "DFS for graph with numerical characters: \n",
            "\n",
            "1\n",
            "2\n",
            "4\n",
            "5\n",
            "6\n",
            "3\n"
          ],
          "name": "stdout"
        }
      ]
    },
    {
      "cell_type": "code",
      "metadata": {
        "id": "00l7Z0iVtif8",
        "colab_type": "code",
        "colab": {
          "base_uri": "https://localhost:8080/"
        },
        "outputId": "e956b62e-c862-412c-af85-707627941bcc"
      },
      "source": [
        "print(\"BFS: \\n\")\n",
        "print('For alphabets: ')\n",
        "print(f'Visited: {visitedAlpha}')\n",
        "print(f'Queued: {queueAlpha}')\n",
        "print('For numbers: ')\n",
        "print(f'Visited: {visitedNum}')\n",
        "print(f'Queued: {queueNum}')"
      ],
      "execution_count": null,
      "outputs": [
        {
          "output_type": "stream",
          "text": [
            "BFS: \n",
            "\n",
            "For alphabets: \n",
            "Visited: ['A', 'B', 'C', 'D', 'E', 'F']\n",
            "Queued: []\n",
            "For numbers: \n",
            "Visited: [1, 2, 3, 4, 5, 6]\n",
            "Queued: []\n"
          ],
          "name": "stdout"
        }
      ]
    },
    {
      "cell_type": "code",
      "metadata": {
        "id": "s5s_sM0x0L-L",
        "colab_type": "code",
        "colab": {
          "base_uri": "https://localhost:8080/"
        },
        "outputId": "a1b6bf83-d8c2-4c30-b96d-30fe552603ea"
      },
      "source": [
        "print(\"DFS: \\n\")\n",
        "print(f'Visited alphabets: {visitedAlphaDFS}')\n",
        "print(f'Visited numbers: {visitedNumDFS}')"
      ],
      "execution_count": null,
      "outputs": [
        {
          "output_type": "stream",
          "text": [
            "DFS: \n",
            "\n",
            "Visited alphabets: {'E', 'A', 'D', 'C', 'F', 'B'}\n",
            "Visited numbers: {1, 2, 3, 4, 5, 6}\n"
          ],
          "name": "stdout"
        }
      ]
    }
  ]
}