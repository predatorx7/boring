{
  "nbformat": 4,
  "nbformat_minor": 0,
  "metadata": {
    "colab": {
      "name": "4.B-Hanoi.ipynb",
      "provenance": [],
      "authorship_tag": "ABX9TyOn814sEJEMfF3azKK511yC",
      "include_colab_link": true
    },
    "kernelspec": {
      "name": "python3",
      "display_name": "Python 3"
    }
  },
  "cells": [
    {
      "cell_type": "markdown",
      "metadata": {
        "id": "view-in-github",
        "colab_type": "text"
      },
      "source": [
        "<a href=\"https://colab.research.google.com/github/predatorx7/boring/blob/master/pyai/4_B_Hanoi.ipynb\" target=\"_parent\"><img src=\"https://colab.research.google.com/assets/colab-badge.svg\" alt=\"Open In Colab\"/></a>"
      ]
    },
    {
      "cell_type": "code",
      "metadata": {
        "id": "PQ04ZaRFX0TQ",
        "colab_type": "code",
        "colab": {
          "base_uri": "https://localhost:8080/",
          "height": 312
        },
        "outputId": "5bb8f7c5-1d9f-4b63-968c-a0417ead880b"
      },
      "source": [
        "def moveDisk(source, diskNumber, fp, tp):\n",
        "    print(f\"moving disk {diskNumber} from {fp} to {tp}\")\n",
        "    fp_i = source.index(fp)\n",
        "    tp_i = source.index(tp)\n",
        "    source[fp_i], source[tp_i] = source[tp_i], source[fp_i]\n",
        "\n",
        "def hanoi(disks, source, auxiliary, target):\n",
        "    if disks == 1:\n",
        "        moveDisk(disk, 1, source, target)\n",
        "        return\n",
        "    hanoi(disks - 1, source, target, auxiliary)\n",
        "    moveDisk(disk, disks, source, target)\n",
        "    hanoi(disks - 1, auxiliary, source, target)\n",
        " \n",
        "disk = ['C', 'B', 'A', 'D']\n",
        " \n",
        "disk_size = len(disk)\n",
        "\n",
        "print(f\"problem: {disk}\")\n",
        "\n",
        "hanoi(disk_size, 'C', 'B', 'A')\n",
        "\n",
        "print(f\"solution: {disk}\")"
      ],
      "execution_count": null,
      "outputs": [
        {
          "output_type": "stream",
          "text": [
            "problem: ['C', 'B', 'A', 'D']\n",
            "moving disk 1 from C to B\n",
            "moving disk 2 from C to A\n",
            "moving disk 1 from B to A\n",
            "moving disk 3 from C to B\n",
            "moving disk 1 from A to C\n",
            "moving disk 2 from A to B\n",
            "moving disk 1 from C to B\n",
            "moving disk 4 from C to A\n",
            "moving disk 1 from B to A\n",
            "moving disk 2 from B to C\n",
            "moving disk 1 from A to C\n",
            "moving disk 3 from B to A\n",
            "moving disk 1 from C to B\n",
            "moving disk 2 from C to A\n",
            "moving disk 1 from B to A\n",
            "solution: ['A', 'B', 'C', 'D']\n"
          ],
          "name": "stdout"
        }
      ]
    }
  ]
}