{
  "nbformat": 4,
  "nbformat_minor": 0,
  "metadata": {
    "colab": {
      "name": "3.B-AOstar.ipynb",
      "provenance": [],
      "collapsed_sections": [],
      "authorship_tag": "ABX9TyPzDSTtgLdu2nPHiuVNRqCo",
      "include_colab_link": true
    },
    "kernelspec": {
      "name": "python3",
      "display_name": "Python 3"
    }
  },
  "cells": [
    {
      "cell_type": "markdown",
      "metadata": {
        "id": "view-in-github",
        "colab_type": "text"
      },
      "source": [
        "<a href=\"https://colab.research.google.com/github/predatorx7/boring/blob/master/pyai/3_B_AOstar.ipynb\" target=\"_parent\"><img src=\"https://colab.research.google.com/assets/colab-badge.svg\" alt=\"Open In Colab\"/></a>"
      ]
    },
    {
      "cell_type": "code",
      "metadata": {
        "id": "vD11UMW0lLxu",
        "colab_type": "code",
        "colab": {}
      },
      "source": [
        "from collections import OrderedDict\n",
        "from typing import Any, Dict, List, Set, Tuple\n",
        " \n",
        " # I should've named this Edge instead\n",
        "class Connection:\n",
        "    \"\"\"Weighted connection between 2 nodes.\n",
        "    \n",
        "    Represents the edge between 2 nodes. The weight value is the distance \n",
        "    between connectionOf and connectionTo nodes\n",
        "    \"\"\"\n",
        "    def __init__(this, connectionOf: str, connectionTo: str, weight: int = None) -> None:\n",
        "        this.connectionOf, this.connectionTo = connectionOf, connectionTo\n",
        "        this.weight = weight\n",
        " \n",
        "    def create_with_swapped_nodes(this):\n",
        "        return Connection(this.connectionTo, this.connectionOf, this.weight)\n",
        " \n",
        "    def __eq__(this, o):\n",
        "        if not isinstance(o, Connection):\n",
        "            return False\n",
        "        return this.connectionOf == o.connectionOf and this.connectionTo == this.connectionTo and this.weight == this.weight\n",
        " \n",
        "    def __str__(this):\n",
        "        return f\"Connection(Of:{this.connectionOf}, To:{this.connectionTo}, weight:{this.weight})\"\n",
        " \n",
        "    def __hash__(this):\n",
        "        return hash(this.__str__())\n",
        " \n",
        " \n",
        "class NodeData:\n",
        "    \"Data of [label] with [value] and list of [connections]\"\n",
        "    def __init__(this, label: str, value=None, connections: Set[Connection] = None) -> None:\n",
        "        assert isinstance(label, str)\n",
        "        this.label = label\n",
        "        this.value = value\n",
        "        this.connections: Set[Connection] = connections if connections != None else set(\n",
        "        )\n",
        " \n",
        "    def add_node(this, connectionTo: str, weight: int = None):\n",
        "        assert connectionTo != None and isinstance(connectionTo, str)\n",
        "        this.connections.add(Connection(this.label, connectionTo, weight))\n",
        " \n",
        "    def add_connection(this, connection: Connection):\n",
        "        assert connection.connectionOf == this.label, f\"Connection doesn't belong to node {this.label}\"\n",
        "        this.connections.add(connection)\n",
        " \n",
        "    def has_connection(this, connectionTo, weight: int = None):\n",
        "        for i in this.connections:\n",
        "            if i.connectionTo == connectionTo and i.weight == weight:\n",
        "                return True\n",
        "        return False\n",
        " \n",
        "    def get_connection_with(this, connectionTo: str, weight=None):\n",
        "        for i in this.connections:\n",
        "            if i.connectionTo == connectionTo and (weight == None or i.weight == weight):\n",
        "                return i\n",
        "        return None"
      ],
      "execution_count": null,
      "outputs": []
    },
    {
      "cell_type": "code",
      "metadata": {
        "id": "7lZv0bTzluPx",
        "colab_type": "code",
        "colab": {}
      },
      "source": [
        "class Graph:\n",
        "    \"\"\"In this [Graph], nodes are stateless and the data is handled by NodeData\"\"\"\n",
        "    def __init__(this) -> None:\n",
        "        \"label: str = value: NodeData | None\"\n",
        "        this._nodes: OrderedDict[str, NodeData] = OrderedDict()\n",
        "\n",
        "    @property\n",
        "    def get_nodes(this) -> Tuple[str]:\n",
        "        return tuple(this._nodes.keys())\n",
        "\n",
        "    @property\n",
        "    def first(this) -> str:\n",
        "        _nodes = this.get_nodes\n",
        "        if len(_nodes) < 1:\n",
        "            return None\n",
        "        return _nodes[0]\n",
        "\n",
        "    @property\n",
        "    def items(this):\n",
        "        return this._nodes.items()\n",
        "\n",
        "    def __contains__(this, key: object) -> bool:\n",
        "        return key in this._nodes\n",
        "\n",
        "    def add_node(this, key, value=None, connections=None):\n",
        "        assert isinstance(key, str)\n",
        "        if key in this:\n",
        "            return\n",
        "        this._nodes[key] = NodeData(key, value, connections)\n",
        "\n",
        "    def get_data(this, key):\n",
        "        return this._nodes.get(key, None)\n",
        "\n",
        "    def add_connection(this, connection: Connection, is_birectional: bool = None):\n",
        "        a, b = connection.connectionOf, connection.connectionTo\n",
        "        this.add_node(a)\n",
        "        this.add_node(b)\n",
        "        data_a = this.get_data(a)\n",
        "        data_a.add_connection(connection)\n",
        "        if is_birectional:\n",
        "            data_b = this.get_data(b)\n",
        "            data_b.add_connection(connection.create_with_swapped_nodes())\n",
        "\n",
        "    def add_connection_as(this, connectionOf, connectionTo, weight, is_birectional: bool = None):\n",
        "        this.add_connection(Connection(\n",
        "            connectionOf, connectionTo, weight), is_birectional)\n",
        "\n",
        "    def add_connections(this, connections: List[Connection], is_birectional: bool = None):\n",
        "        for i in connections:\n",
        "            this.add_connection(i, is_birectional)\n",
        "\n",
        "    def add_connections_as(this, connections: List[tuple], weight=None, is_birectional: bool = None):\n",
        "        \"\"\"Add multiple connection from list of tuples where\n",
        "        every tuple must be (connectionOf: str, connectionTo: str, weight: int)\n",
        "\n",
        "        The weight parameter overrides weight value in tuple\"\"\"\n",
        "        for connectionOf, connectionTo, _weight in connections:\n",
        "            assert isinstance(connectionOf, str) and isinstance(\n",
        "                connectionTo, str)\n",
        "            _eff_weight = weight if weight != None else _weight\n",
        "            this.add_connection_as(\n",
        "                connectionOf,  connectionTo, _eff_weight, is_birectional)"
      ],
      "execution_count": null,
      "outputs": []
    },
    {
      "cell_type": "code",
      "metadata": {
        "id": "UKFoa7pfl7cg",
        "colab_type": "code",
        "colab": {}
      },
      "source": [
        "import networkx as nx\n",
        "import matplotlib.pyplot as plt\n",
        "import pylab\n",
        "\n",
        "# unnecessary methods for graph building & presentation purpose\n",
        "\n",
        "def graph_builder(connections: List[tuple], is_birectional=False) -> Graph:\n",
        "    \"\"\"The [connections] is a list of tuples where every tuple must be (connectionOf: str, connectionTo: str, weight: int)\n",
        "    for example:\n",
        "    ```\n",
        "    edge_connections: List[tuple] = [\n",
        "        ('S', 'B', 4),\n",
        "        ('S', 'C', 3),\n",
        "        ('C', 'D', 7),\n",
        "        ('D', 'E', 2),\n",
        "        ('C', 'E', 10),\n",
        "        ('B', 'E', 12),\n",
        "        ('B', 'F', 5),\n",
        "        ('F', 'G', 16),\n",
        "        ('E', 'G', 5)\n",
        "    ]\n",
        "    ```\n",
        "    \"\"\"\n",
        "    assert isinstance(is_birectional, bool), \"is_birectional must be bool\"\n",
        "\n",
        "    G = Graph()\n",
        "\n",
        "    # Add edges to graph\n",
        "    G.add_connections_as(connections, is_birectional=True)\n",
        "    return G\n",
        "\n",
        "\n",
        "def draw_graph(graph: Graph, start: str = None, goal: str = None, path: Tuple[str] = None):\n",
        "    \"Creates a directed Networkx graph\"\n",
        "    G = nx.DiGraph()\n",
        "    for i in graph.get_nodes:\n",
        "        data = graph.get_data(i)\n",
        "        for j in data.connections:\n",
        "            G.add_edge(i, j.connectionTo, weight=j.weight)\n",
        "\n",
        "    # set colors to special nodes (start, goal, path)\n",
        "    val_map = dict()\n",
        "    if start != None:\n",
        "        val_map[start] = 0.0\n",
        "    if goal != None:\n",
        "        val_map[goal] = 1.0\n",
        "    if path != None:\n",
        "        for i in path[1:-1]:\n",
        "            val_map[i] = 0.75\n",
        "\n",
        "    # set colors of other nodes to 0.25 which are not in val_map\n",
        "    values = [val_map.get(node, 0.5) for node in G.nodes()]\n",
        "    edge_labels = dict([((u, v,), d['weight'])\n",
        "                        for u, v, d in G.edges(data=True)])\n",
        "\n",
        "    options = {\n",
        "        'node_color': values,\n",
        "        'node_size': 1500,\n",
        "        'edge_color': 'black',\n",
        "        'width': 1,\n",
        "        'arrowstyle': '-|>',\n",
        "        'arrowsize': 12,\n",
        "        'edge_cmap': plt.cm.Reds\n",
        "    }\n",
        "\n",
        "    pos = nx.spring_layout(G)\n",
        "    nx.draw_networkx_edge_labels(G, pos, edge_labels=edge_labels)\n",
        "    nx.draw_networkx(G, pos, arrows=True, **options)\n",
        "    pylab.show()"
      ],
      "execution_count": null,
      "outputs": []
    },
    {
      "cell_type": "code",
      "metadata": {
        "id": "VfyGEnfJmJ_g",
        "colab_type": "code",
        "colab": {}
      },
      "source": [
        "from math import inf\n",
        "\n",
        "class Astar():\n",
        "    def __init__(this, graph: Graph) -> None:\n",
        "        \"Informed Search\"\n",
        "\n",
        "        this.graph = graph\n",
        "\n",
        "    def g(this, n: str, connection_with_n: Connection = None):\n",
        "        \"\"\"G is the cost of moving from one node to the other node. \n",
        "        This parameter changes for every node as we move up to find the most optimal path.\"\"\"\n",
        "\n",
        "        assert this.current != None, \"current variable must have a value\"\n",
        "\n",
        "        if this.current == n:\n",
        "            return 0\n",
        "\n",
        "        if connection_with_n == None:\n",
        "            current_node_data = this.graph.get_data(this.current)\n",
        "            connection_with_n = current_node_data.get_connection_with(n)\n",
        "\n",
        "        assert connection_with_n != None, \"current has no direct connection with n\"\n",
        "\n",
        "        return this.g_score.get(this.current, inf) + connection_with_n.weight\n",
        "\n",
        "    def _calculate_heuristic_by_dfs(this, n: str, g: str):\n",
        "        if not n in this._visited_nodes_in_heuristic_calculation:\n",
        "            this._visited_nodes_in_heuristic_calculation.add(n)\n",
        "\n",
        "        if n == g:\n",
        "            return 0\n",
        "\n",
        "        data = this.graph.get_data(n)\n",
        "        if data.value != None:\n",
        "            return data.value\n",
        "\n",
        "        for connection in data.connections:\n",
        "            child = connection.connectionTo\n",
        "            if child == g:\n",
        "                # this is g, return weight\n",
        "                data.value = connection.weight\n",
        "                break\n",
        "            if child in this._visited_nodes_in_heuristic_calculation:\n",
        "                # Had been visited and doesn't have g.\n",
        "                # if it has g, then the value should have already been returned above,\n",
        "                # but it didn't. Thus, it doesn't have g.\n",
        "                continue\n",
        "            value = this._calculate_heuristic_by_dfs(child, g)\n",
        "            if value == None:\n",
        "                # Did not found goal in depth\n",
        "                continue\n",
        "            # Found goal\n",
        "            data.value = value + connection.weight\n",
        "            break\n",
        "        return data.value\n",
        "\n",
        "    def h(this, n: str):\n",
        "        \"\"\"H is the heuristic/estimated path between the current code to the destination node. \n",
        "        This cost is not actual but is, in reality, a guess cost that we use to find \n",
        "        which could be the most optimal path between our source and destination.\"\"\"\n",
        "        return this._calculate_heuristic_by_dfs(n, this.goal)\n",
        "\n",
        "    def f(this, n: str):\n",
        "        \"\"\"F is the parameter of A* which is the sum of the other parameters \n",
        "        G and H and is the least cost from one node to the next node. \n",
        "        This parameter is responsible for helping us find the most optimal \n",
        "        path from our source to destination.\"\"\"\n",
        "        \n",
        "        # Uses cached value of g if available\n",
        "        g = this.g_score.get(n, inf)\n",
        "        h = this.h(n)\n",
        "          f = g + h\n",
        "        if h == None:\n",
        "          return inf\n",
        "        return g + h\n",
        "\n",
        "    @property\n",
        "    def reconstruct_path(this) -> Tuple[str]:\n",
        "        \"Reconstruct path from current\"\n",
        "        current = this.current\n",
        "        absolute_path = [current]\n",
        "        while current in this.came_from:\n",
        "            current = this.came_from[current]\n",
        "            absolute_path.insert(0, current)\n",
        "        return tuple(absolute_path)\n",
        "\n",
        "    def execute(this, start: str, goal: str) -> Tuple[int, str]:\n",
        "        \"\"\"\n",
        "        A* search algorithm. Returns a tuple of minimum cost and shortest path to travel from start to goal.\n",
        "\n",
        "        Reference: https://en.wikipedia.org/wiki/A*_search_algorithm\n",
        "        \"\"\"\n",
        "        this.start = start\n",
        "        this.goal = goal\n",
        "\n",
        "        # ignore, this set is used by heuristic function\n",
        "        this._visited_nodes_in_heuristic_calculation: Set[str] = set()\n",
        "\n",
        "        # The set of discovered nodes that may need to be(re-)expanded.\n",
        "        # Initially, only the start node is known.\n",
        "        open_nodes = {start}\n",
        "\n",
        "        # For node n, cameFrom[n] is the node immediately preceding it\n",
        "        # on the cheapest path from start to n currently known.\n",
        "        this.came_from: Dict[str, str] = dict()\n",
        "\n",
        "        # For node n, g_score[n] is the cost of the cheapest path from start to n currently known.\n",
        "        # If None, then assume default value to be inf\n",
        "        this.g_score: Dict[str, int] = dict()\n",
        "        this.g_score[start] = 0\n",
        "\n",
        "        # For node n, f_score[n] = g_score[n] + h(n).\n",
        "        # f_score[n] represents our current best guess as to\n",
        "        # how short a path from start to finish can be if it goes through n.\n",
        "        # map has with default value of Infinity\n",
        "        this.f_score: Dict[str, int] = dict()\n",
        "        this.f_score[start] = this.h(start)\n",
        "\n",
        "        def open_node_with_lowest_f_score():\n",
        "            # This operation can occur in O(1) time if open_nodes is a min-heap or a priority queue\n",
        "            lowest_key = None\n",
        "            lowest_val = None\n",
        "            for k in open_nodes:\n",
        "                v = this.f_score[k]\n",
        "                if lowest_key == None and lowest_val == None:\n",
        "                    lowest_key, lowest_val = k, v\n",
        "                    continue\n",
        "                if v < lowest_val:\n",
        "                    lowest_key, lowest_val = k, v\n",
        "            return lowest_key\n",
        "\n",
        "        while len(open_nodes) != 0:\n",
        "            # the node in open_nodes set having the lowest fScore[] value\n",
        "            this.current = open_node_with_lowest_f_score()\n",
        "            if this.current == goal:\n",
        "                return (this.f_score[this.current], this.reconstruct_path)\n",
        "\n",
        "            open_nodes.remove(this.current)\n",
        "\n",
        "            current_data = this.graph.get_data(this.current)\n",
        "            for connection in current_data.connections:\n",
        "                neighbor = connection.connectionTo\n",
        "                # tentative_g_score = g(neighbour) = g(current) + d(current, neighbor)\n",
        "                # where d is the weight of the edge from current to neighbor\n",
        "                # tentative_gScore is the distance from start to the neighbor through current\n",
        "                tentative_g_score = this.g(neighbor, connection)\n",
        "                previous_g_score = this.g_score.get(neighbor, inf)\n",
        "                if tentative_g_score < previous_g_score:\n",
        "                    # This path to neighbor is better than any previous one. Record it!\n",
        "                    this.came_from[neighbor] = this.current\n",
        "                    this.g_score[neighbor] = tentative_g_score\n",
        "                    this.f_score[neighbor] = this.f(neighbor)\n",
        "                    if neighbor not in open_nodes:\n",
        "                        open_nodes.add(neighbor)\n",
        "        # // open_nodes set is empty but goal was never reached\n",
        "        return None"
      ],
      "execution_count": null,
      "outputs": []
    },
    {
      "cell_type": "markdown",
      "metadata": {
        "id": "OOhCy65mb8Ty",
        "colab_type": "text"
      },
      "source": [
        "## Example 1"
      ]
    },
    {
      "cell_type": "code",
      "metadata": {
        "id": "pIwXGaOFmbO2",
        "colab_type": "code",
        "colab": {
          "base_uri": "https://localhost:8080/",
          "height": 248
        },
        "outputId": "461f0253-529e-4454-a5cf-c260c44b7cae"
      },
      "source": [
        "# Creating a graph below\n",
        "\n",
        "# edges\n",
        "_connections: List[tuple] = [\n",
        "    ('S', 'B', 4),\n",
        "    ('S', 'C', 3),\n",
        "    ('C', 'D', 7),\n",
        "    ('D', 'E', 2),\n",
        "    ('C', 'E', 10),\n",
        "    ('B', 'E', 12),\n",
        "    ('B', 'F', 5),\n",
        "    ('F', 'G', 16),\n",
        "    ('E', 'G', 5)\n",
        "]\n",
        "\n",
        "graph = graph_builder(_connections)\n",
        "\n",
        "draw_graph(graph, start='S', goal='G')"
      ],
      "execution_count": null,
      "outputs": [
        {
          "output_type": "display_data",
          "data": {
            "image/png": "[encoded data removed]",
            "text/plain": [
              "<Figure size 432x288 with 1 Axes>"
            ]
          },
          "metadata": {
            "tags": []
          }
        }
      ]
    },
    {
      "cell_type": "code",
      "metadata": {
        "id": "AByktRqvm9_V",
        "colab_type": "code",
        "colab": {
          "base_uri": "https://localhost:8080/",
          "height": 68
        },
        "outputId": "99fe4e69-85c1-4850-b84f-26579b5b52e1"
      },
      "source": [
        "# Executing A* search algorithm on graph\n",
        "\n",
        "astar = Astar(graph)\n",
        "\n",
        "cost, optimum_path = astar.execute(\"S\", \"G\")\n",
        "\n",
        "print(f\"Optimum path: {' -> '.join(optimum_path)}\")\n",
        "\n",
        "print(f'\\nMinimum cost: {cost}')"
      ],
      "execution_count": null,
      "outputs": [
        {
          "output_type": "stream",
          "text": [
            "Optimum path: S -> C -> D -> E -> G\n",
            "\n",
            "Minimum cost: 17\n"
          ],
          "name": "stdout"
        }
      ]
    },
    {
      "cell_type": "code",
      "metadata": {
        "id": "Ltsov55JnF8n",
        "colab_type": "code",
        "colab": {
          "base_uri": "https://localhost:8080/",
          "height": 248
        },
        "outputId": "fd3abb38-9670-4da2-9bb0-cc3632976fc6"
      },
      "source": [
        "draw_graph(graph, \"S\", \"G\", path=optimum_path)"
      ],
      "execution_count": null,
      "outputs": [
        {
          "output_type": "display_data",
          "data": {
            "image/png": "[encoded data removed]",
            "text/plain": [
              "<Figure size 432x288 with 1 Axes>"
            ]
          },
          "metadata": {
            "tags": []
          }
        }
      ]
    },
    {
      "cell_type": "markdown",
      "metadata": {
        "id": "fw_RymkwcBkE",
        "colab_type": "text"
      },
      "source": [
        "## Example 2"
      ]
    },
    {
      "cell_type": "code",
      "metadata": {
        "id": "-TjJ6oPjb4Xw",
        "colab_type": "code",
        "colab": {
          "base_uri": "https://localhost:8080/",
          "height": 248
        },
        "outputId": "8f99327d-b385-4a31-d977-eeaaba9f81c6"
      },
      "source": [
        "# Creating a graph below\n",
        "f = g + h\n",
        "# edges\n",
        "_connections: List[tuple] = [\n",
        "    ('S', 'A', 1.5),\n",
        "    ('A', 'B', 2),\n",
        "    ('B', 'C', 3),\n",
        "    ('C', 'G', 4),\n",
        "    ('S', 'D', 2),\n",
        "    ('D', 'E', 3),\n",
        "    ('E', 'G', 6), #2),\n",
        "]\n",
        "\n",
        "graph = graph_builder(_connections)\n",
        "\n",
        "draw_graph(graph, start='S', goal='G')"
      ],
      "execution_count": null,
      "outputs": [
        {
          "output_type": "display_data",
          "data": {
            "image/png": "[encoded data removed]",
            "text/plain": [
              "<Figure size 432x288 with 1 Axes>"
            ]
          },
          "metadata": {
            "tags": []
          }
        }
      ]
    },
    {
      "cell_type": "code",
      "metadata": {
        "id": "o1sNtEVwcx5G",
        "colab_type": "code",
        "colab": {
          "base_uri": "https://localhost:8080/",
          "height": 68
        },
        "outputId": "9afee410-82a4-4a46-d70f-fb6642f868c4"
      },
      "source": [
        "# Executing A* search algorithm on graph\n",
        "\n",
        "astar = Astar(graph)\n",
        "\n",
        "cost, optimum_path = astar.execute(\"S\", \"G\")\n",
        "\n",
        "print(f\"Optimum path: {' -> '.join(optimum_path)}\")\n",
        "\n",
        "print(f'\\nMinimum cost: {cost}')"
      ],
      "execution_count": null,
      "outputs": [
        {
          "output_type": "stream",
          "text": [
            "Optimum path: S -> A -> B -> C -> G\n",
            "\n",
            "Minimum cost: 10.5\n"
          ],
          "name": "stdout"
        }
      ]
    },
    {
      "cell_type": "code",
      "metadata": {
        "id": "kAevzkwdc3jT",
        "colab_type": "code",
        "colab": {
          "base_uri": "https://localhost:8080/",
          "height": 248
        },
        "outputId": "046e61c4-04c9-4948-bc60-d29304e0744a"
      },
      "source": [
        "draw_graph(graph, \"S\", \"G\", path=optimum_path)"
      ],
      "execution_count": null,
      "outputs": [
        {
          "output_type": "display_data",
          "data": {
            "image/png": "[encoded data removed]",
            "text/plain": [
              "<Figure size 432x288 with 1 Axes>"
            ]
          },
          "metadata": {
            "tags": []
          }
        }
      ]
    }
  ]
}