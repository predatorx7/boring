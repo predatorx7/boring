{
  "nbformat": 4,
  "nbformat_minor": 0,
  "metadata": {
    "colab": {
      "name": "7.A-ShuffleDeck.ipynb",
      "provenance": [],
      "collapsed_sections": [],
      "authorship_tag": "ABX9TyMg5CvwnnVv0cV27ljVtRFa",
      "include_colab_link": true
    },
    "kernelspec": {
      "name": "python3",
      "display_name": "Python 3"
    }
  },
  "cells": [
    {
      "cell_type": "markdown",
      "metadata": {
        "id": "view-in-github",
        "colab_type": "text"
      },
      "source": [
        "<a href=\"https://colab.research.google.com/github/predatorx7/boring/blob/master/pyai/7_A_ShuffleDeck.ipynb\" target=\"_parent\"><img src=\"https://colab.research.google.com/assets/colab-badge.svg\" alt=\"Open In Colab\"/></a>"
      ]
    },
    {
      "cell_type": "code",
      "metadata": {
        "id": "0Rxd7WkdKAdw"
      },
      "source": [
        "import enum\n",
        "\n",
        "class CardName(enum.Enum):\n",
        "  cardKing = 'King'\n",
        "  cardQueen = 'Queen'\n",
        "  cardJoker = 'Joker'\n",
        "  card10 = '10'\n",
        "  card9 = '9'\n",
        "  card8 = '8'\n",
        "  card7 = '7'\n",
        "  card6 = '6'\n",
        "  card5 = '5'\n",
        "  card4 = '4'\n",
        "  card3 = '3'\n",
        "  card2 = '2'\n",
        "  cardA = 'Ace'\n",
        "\n",
        "class CardType(enum.Enum):\n",
        "  Spade = 'Spade'\n",
        "  Club = 'Club'\n",
        "  Diamond = 'Diamond'\n",
        "  Heart = 'Heart'\n",
        "\n",
        "class Card:\n",
        "  def __init__(this, cardName: CardName, cardType: CardType):\n",
        "    this.cardName = cardName\n",
        "    this.cardType = cardType\n",
        "  def __str__(this):\n",
        "    return 'Card(name: {}, type: {})'.format(this.cardName.value, this.cardType.name)"
      ],
      "execution_count": null,
      "outputs": []
    },
    {
      "cell_type": "code",
      "metadata": {
        "id": "WE0J-NYeN-8S"
      },
      "source": [
        "from typing import List\n",
        "from random import shuffle\n",
        "\n",
        "class Deck:\n",
        "  def __init__(this, deck: List[Card] = None):\n",
        "    if deck != None:\n",
        "      this.deck = deck\n",
        "    else:\n",
        "      this.deck: List[Card] = []\n",
        "      this.generateDeck()\n",
        "\n",
        "  def generateDeck(this):\n",
        "    for cardType in CardType:\n",
        "      for cardName in CardName:\n",
        "        card = Card(cardName, cardType)\n",
        "        this.deck.append(card)\n",
        "\n",
        "  def shuffle(this):\n",
        "    shuffle(this.deck)\n",
        "\n",
        "  def getHand(this, size=5):\n",
        "    return this.deck[:size]\n",
        "\n",
        "  def __str__(this):\n",
        "    deck = 'Deck('\n",
        "    for card in this.deck:\n",
        "      deck += '\\n  {},'.format(card)\n",
        "    if len(this.deck) > 0:\n",
        "      deck += '\\n'\n",
        "    return '{})'.format(deck)\n",
        "\n",
        "class Hand(Deck):\n",
        "  def __init__(this, deck: List[Card] = None):\n",
        "    super().__init__(deck)\n",
        "\n",
        "  @staticmethod\n",
        "  def create(deck: Deck, size= 5):\n",
        "    cards = deck.getHand(size)\n",
        "    hand = Hand(cards)\n",
        "    return hand"
      ],
      "execution_count": null,
      "outputs": []
    },
    {
      "cell_type": "code",
      "metadata": {
        "id": "ckTar2dVPcwm",
        "outputId": "1d5f848b-4544-4ee7-bfea-0fad9302e92e",
        "colab": {
          "base_uri": "https://localhost:8080/",
          "height": 1000
        }
      },
      "source": [
        "deck = Deck()\n",
        "print(deck, end='\\n\\n')\n",
        "deck.shuffle()\n",
        "hand = Hand.create(deck, 5)\n",
        "print(hand, end='\\n\\n')"
      ],
      "execution_count": null,
      "outputs": [
        {
          "output_type": "stream",
          "text": [
            "Deck(\n",
            "  Card(name: King, type: Spade),\n",
            "  Card(name: Queen, type: Spade),\n",
            "  Card(name: Joker, type: Spade),\n",
            "  Card(name: 10, type: Spade),\n",
            "  Card(name: 9, type: Spade),\n",
            "  Card(name: 8, type: Spade),\n",
            "  Card(name: 7, type: Spade),\n",
            "  Card(name: 6, type: Spade),\n",
            "  Card(name: 5, type: Spade),\n",
            "  Card(name: 4, type: Spade),\n",
            "  Card(name: 3, type: Spade),\n",
            "  Card(name: 2, type: Spade),\n",
            "  Card(name: Ace, type: Spade),\n",
            "  Card(name: King, type: Club),\n",
            "  Card(name: Queen, type: Club),\n",
            "  Card(name: Joker, type: Club),\n",
            "  Card(name: 10, type: Club),\n",
            "  Card(name: 9, type: Club),\n",
            "  Card(name: 8, type: Club),\n",
            "  Card(name: 7, type: Club),\n",
            "  Card(name: 6, type: Club),\n",
            "  Card(name: 5, type: Club),\n",
            "  Card(name: 4, type: Club),\n",
            "  Card(name: 3, type: Club),\n",
            "  Card(name: 2, type: Club),\n",
            "  Card(name: Ace, type: Club),\n",
            "  Card(name: King, type: Diamond),\n",
            "  Card(name: Queen, type: Diamond),\n",
            "  Card(name: Joker, type: Diamond),\n",
            "  Card(name: 10, type: Diamond),\n",
            "  Card(name: 9, type: Diamond),\n",
            "  Card(name: 8, type: Diamond),\n",
            "  Card(name: 7, type: Diamond),\n",
            "  Card(name: 6, type: Diamond),\n",
            "  Card(name: 5, type: Diamond),\n",
            "  Card(name: 4, type: Diamond),\n",
            "  Card(name: 3, type: Diamond),\n",
            "  Card(name: 2, type: Diamond),\n",
            "  Card(name: Ace, type: Diamond),\n",
            "  Card(name: King, type: Heart),\n",
            "  Card(name: Queen, type: Heart),\n",
            "  Card(name: Joker, type: Heart),\n",
            "  Card(name: 10, type: Heart),\n",
            "  Card(name: 9, type: Heart),\n",
            "  Card(name: 8, type: Heart),\n",
            "  Card(name: 7, type: Heart),\n",
            "  Card(name: 6, type: Heart),\n",
            "  Card(name: 5, type: Heart),\n",
            "  Card(name: 4, type: Heart),\n",
            "  Card(name: 3, type: Heart),\n",
            "  Card(name: 2, type: Heart),\n",
            "  Card(name: Ace, type: Heart),\n",
            ")\n",
            "\n",
            "Deck(\n",
            "  Card(name: 4, type: Club),\n",
            "  Card(name: Ace, type: Diamond),\n",
            "  Card(name: 7, type: Club),\n",
            "  Card(name: 6, type: Heart),\n",
            "  Card(name: 10, type: Spade),\n",
            ")\n",
            "\n"
          ],
          "name": "stdout"
        }
      ]
    },
    {
      "cell_type": "code",
      "metadata": {
        "id": "jO0EdnyXQq0_",
        "outputId": "81bf45fc-5d52-4ada-d78d-863539fdcaea",
        "colab": {
          "base_uri": "https://localhost:8080/",
          "height": 139
        }
      },
      "source": [
        "hand.shuffle()\n",
        "print(hand)"
      ],
      "execution_count": null,
      "outputs": [
        {
          "output_type": "stream",
          "text": [
            "Deck(\n",
            "  Card(name: 6, type: Heart),\n",
            "  Card(name: 4, type: Club),\n",
            "  Card(name: 7, type: Club),\n",
            "  Card(name: 10, type: Spade),\n",
            "  Card(name: Ace, type: Diamond),\n",
            ")\n"
          ],
          "name": "stdout"
        }
      ]
    }
  ]
}